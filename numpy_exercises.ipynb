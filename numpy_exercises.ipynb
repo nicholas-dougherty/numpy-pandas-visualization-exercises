{
 "cells": [
  {
   "cell_type": "markdown",
   "id": "5cfd1748-b3f5-41a7-8589-505c7539f1f0",
   "metadata": {},
   "source": [
    "# Numpy Exercises\n",
    "***\n",
    "1. How many negative numbers are there?\n",
    "\n",
    "2. How many positive numbers are there?\n",
    "\n",
    "3. How many even positive numbers are there?\n",
    "\n",
    "4. If you were to add 3 to each data point, how many positive numbers would there be?\n",
    "\n",
    "5. If you squared each number, what would the new mean and standard deviation be?\n",
    "\n",
    "6. A common statistical operation on a dataset is centering. This means to adjust the data such that the mean of the data is 0. This is done by subtracting the mean from each data point. Center the data set. See this [link](https://www.theanalysisfactor.com/centering-and-standardizing-predictors/) for more on centering.\n",
    "\n",
    "7. Calculate the z-score for each data point.\n",
    "***"
   ]
  },
  {
   "cell_type": "code",
   "execution_count": 2,
   "id": "4b51452f",
   "metadata": {},
   "outputs": [],
   "source": [
    "import numpy as np\n",
    "a = np.array([4, 10, 12, 23, -2, -1, 0, 0, 0, -6, 3, -7])"
   ]
  },
  {
   "cell_type": "markdown",
   "id": "1d3bc2d8",
   "metadata": {},
   "source": [
    "1. ### How many negative numbers are there?\n"
   ]
  },
  {
   "cell_type": "code",
   "execution_count": 3,
   "id": "e7250804",
   "metadata": {},
   "outputs": [
    {
     "name": "stdout",
     "output_type": "stream",
     "text": [
      "[-2 -1 -6 -7]\n"
     ]
    },
    {
     "data": {
      "text/plain": [
       "4"
      ]
     },
     "execution_count": 3,
     "metadata": {},
     "output_type": "execute_result"
    }
   ],
   "source": [
    "# cave person approach\n",
    "is_negative = np.array([False, False, False, False, True, True, False, False, False, True, False, True])\n",
    "print(a[is_negative])\n",
    "len(a[is_negative])\n",
    "\n",
    "(a < 0).sum()\n",
    "                    "
   ]
  },
  {
   "cell_type": "code",
   "execution_count": 115,
   "id": "c32831e4",
   "metadata": {},
   "outputs": [
    {
     "name": "stdout",
     "output_type": "stream",
     "text": [
      "[-2 -1 -6 -7]\n"
     ]
    },
    {
     "data": {
      "text/plain": [
       "4"
      ]
     },
     "execution_count": 115,
     "metadata": {},
     "output_type": "execute_result"
    }
   ],
   "source": [
    "is_negative = a < 0\n",
    "print(a[is_negative])\n",
    "len(a[is_negative])"
   ]
  },
  {
   "cell_type": "markdown",
   "id": "80147fd1",
   "metadata": {},
   "source": [
    "2. ### How many positive numbers are there?"
   ]
  },
  {
   "cell_type": "code",
   "execution_count": 117,
   "id": "174fe563",
   "metadata": {},
   "outputs": [
    {
     "name": "stdout",
     "output_type": "stream",
     "text": [
      "[ 4 10 12 23  3]\n"
     ]
    },
    {
     "data": {
      "text/plain": [
       "5"
      ]
     },
     "execution_count": 117,
     "metadata": {},
     "output_type": "execute_result"
    }
   ],
   "source": [
    "is_positive = a > 0\n",
    "print(a[is_positive])\n",
    "len(a[is_positive])\n",
    "# examining them separately for the first two runs, although print and len can be used together\n",
    "\n",
    "len(a[a > 0])"
   ]
  },
  {
   "cell_type": "markdown",
   "id": "2e9550a6",
   "metadata": {},
   "source": [
    "3. ### How many even positive numbers are there?"
   ]
  },
  {
   "cell_type": "code",
   "execution_count": 118,
   "id": "129bc171",
   "metadata": {},
   "outputs": [
    {
     "name": "stdout",
     "output_type": "stream",
     "text": [
      "3\n"
     ]
    }
   ],
   "source": [
    "evens_from_a = a[a % 2 == 0]\n",
    "#evens_from_a\n",
    "\n",
    "#a[a % 2==0]\n",
    "\n",
    "print(len(a[(a > 0) & (a % 2 == 0)]))\n",
    "# print(len(a[(is_positive) & (evens_from_a)]))\n",
    "# also, why does the ampersand work but AND does not?"
   ]
  },
  {
   "cell_type": "code",
   "execution_count": null,
   "id": "07e88926",
   "metadata": {},
   "outputs": [],
   "source": [
    "positives = a[a > 0]\n",
    "evens = positives[positives % 2 == 0]\n",
    "evens"
   ]
  },
  {
   "cell_type": "markdown",
   "id": "62873b82",
   "metadata": {},
   "source": [
    "4. ### If you were to add 3 to each data point, how many positive numbers would there be?"
   ]
  },
  {
   "cell_type": "code",
   "execution_count": 119,
   "id": "da6ee2f9",
   "metadata": {},
   "outputs": [
    {
     "name": "stdout",
     "output_type": "stream",
     "text": [
      "10\n"
     ]
    }
   ],
   "source": [
    "#add_3 = [n +3 for n in a]\n",
    "#add_3\n",
    "\n",
    "b = a + 3\n",
    "print(len(b[b > 0]))\n"
   ]
  },
  {
   "cell_type": "code",
   "execution_count": 120,
   "id": "56ed8594",
   "metadata": {},
   "outputs": [],
   "source": [
    "#add_3 = [n +3 for n in a]\n",
    "#add_3"
   ]
  },
  {
   "cell_type": "markdown",
   "id": "32cb406b",
   "metadata": {},
   "source": [
    "5. ### If you squared each number, what would the new mean and standard deviation be?"
   ]
  },
  {
   "cell_type": "code",
   "execution_count": 121,
   "id": "1af79d39",
   "metadata": {},
   "outputs": [
    {
     "name": "stdout",
     "output_type": "stream",
     "text": [
      "[ 16 100 144 529   4   1   0   0   0  36   9  49]\n",
      "74.0\n",
      "144.0243035046516\n",
      "Mean = 74.0, StdDev = 144.0243035046516\n"
     ]
    }
   ],
   "source": [
    "print(np.square(a))\n",
    "print(np.mean(np.square(a)))\n",
    "print(np.std(np.square(a)))\n",
    "print(f'Mean = {np.mean(np.square(a))}, StdDev = {np.std(np.square(a))}')"
   ]
  },
  {
   "cell_type": "markdown",
   "id": "d9db8c79",
   "metadata": {},
   "source": [
    "6. ### A common statistical operation on a dataset is centering.\n",
    "This means to adjust the data such that the mean of the data is 0.\\\n",
    "This is done by subtracting the mean from each data point.\\\n",
    "Center the data set."
   ]
  },
  {
   "cell_type": "code",
   "execution_count": 129,
   "id": "320586a5",
   "metadata": {},
   "outputs": [
    {
     "name": "stdout",
     "output_type": "stream",
     "text": [
      "3.0\n",
      "[ 4 10 12 23 -2 -1  0  0  0 -6  3 -7]\n",
      "[  1   7   9  20  -5  -4  -3  -3  -3  -9   0 -10]\n"
     ]
    }
   ],
   "source": [
    "print(np.mean(a))\n",
    "# this creates a separate data set, where 3 is subtracted\n",
    "c = a - 3\n",
    "print(a)\n",
    "print(c)\n",
    "# this creates a separate data set"
   ]
  },
  {
   "cell_type": "markdown",
   "id": "9cd21eb5",
   "metadata": {},
   "source": [
    "7. ### Calculate the z-score for each data point.\n",
    "- Recall that the z-score is given by:\n",
    "\n",
    "            Z=(x−μ)/σ\n"
   ]
  },
  {
   "cell_type": "code",
   "execution_count": 134,
   "id": "ec750ae2",
   "metadata": {},
   "outputs": [
    {
     "name": "stdout",
     "output_type": "stream",
     "text": [
      "[ 0.12403473  0.86824314  1.11631261  2.48069469 -0.62017367 -0.49613894\n",
      " -0.3721042  -0.3721042  -0.3721042  -1.11631261  0.         -1.24034735]\n"
     ]
    }
   ],
   "source": [
    "z = c/np.std(a)\n",
    "print(z)\n",
    "\n"
   ]
  },
  {
   "cell_type": "markdown",
   "id": "1147ca4d",
   "metadata": {},
   "source": [
    "8. #### Copy the setup and exercise directions from More Numpy Practice into your numpy_exercises.py and add your solutions."
   ]
  },
  {
   "cell_type": "markdown",
   "id": "8906080f",
   "metadata": {},
   "source": [
    "#### Life w/o numpy to life with numpy\n",
    "\n",
    "##### Setup 1\n",
    " |||||||||||||||||||||| a = [1, 2, 3, 4, 5, 6, 7, 8, 9, 10] ||||||||||||||||||||||\n",
    "\n",
    "### Use python's built in functionality/operators to determine the following:\n",
    "###### Exercise 1 - Make a variable called sum_of_a to hold the sum of all the numbers in above list\n",
    "\n",
    "###### Exercise 2 - Make a variable named min_of_a to hold the minimum of all the numbers in the above list\n",
    "\n",
    "###### Exercise 3 - Make a variable named max_of_a to hold the max number of all the numbers in the above list\n",
    "\n",
    "###### Exercise 4 - Make a variable named mean_of_a to hold the average of all the numbers in the above list\n",
    "\n",
    "###### Exercise 5 - Make a variable named product_of_a to hold the product of multiplying all the numbers in the above list together\n",
    "\n",
    "###### Exercise 6 - Make a variable named squares_of_a. It should hold each number in a squared like [1, 4, 9, 16, 25...]\n",
    "\n",
    "###### Exercise 7 - Make a variable named odds_in_a. It should hold only the odd numbers\n",
    "\n",
    "###### Exercise 8 - Make a variable named evens_in_a. It should hold only the evens.\n"
   ]
  },
  {
   "cell_type": "code",
   "execution_count": 4,
   "id": "b3586686",
   "metadata": {},
   "outputs": [
    {
     "name": "stdout",
     "output_type": "stream",
     "text": [
      "Sum of a = 55\n",
      "Minimum of a = 1\n",
      "Maximum of a = 10\n",
      "Mean of a = 5.5\n",
      "Product of a = 3628800\n",
      "Squares of a = [  1   4   9  16  25  36  49  64  81 100]\n",
      "Odds in a = [1 3 5 7 9]\n",
      "Evens in a = [ 2  4  6  8 10]\n",
      "S e t u p     O n e       C O M P L E T E\n"
     ]
    }
   ],
   "source": [
    "a = np.array([1, 2, 3, 4, 5, 6, 7, 8, 9, 10])\n",
    "\n",
    "# 1.) - Make a variable called sum_of_a to hold the sum of all the numbers in above list\n",
    "sum_of_a = np.sum(a)\n",
    "print(f'Sum of a = {sum_of_a}')\n",
    "\n",
    "# 2.) - Make a variable named min_of_a to hold the minimum of all the numbers in the above list\n",
    "min_of_a = np.min(a)\n",
    "print(f'Minimum of a = {min_of_a}')\n",
    "\n",
    "# 3.) - Make a variable named max_of_a to hold the max number of all the numbers in the above list\n",
    "max_of_a = np.max(a)\n",
    "print(f'Maximum of a = {max_of_a}')\n",
    "\n",
    "# 4.) - Make a variable named mean_of_a to hold the average of all the numbers in the above list\n",
    "mean_of_a = np.mean(a)\n",
    "print(f'Mean of a = {mean_of_a}')\n",
    "\n",
    "\n",
    "# 5.) - Make a variable named product_of_a to hold the product of multiplying all the numbers in the above list together\n",
    "product_of_a = np.product(a)\n",
    "print(f'Product of a = {product_of_a}')\n",
    "\n",
    "product_of_a = 1\n",
    "for n in a:product_of_a *= n\n",
    "    \n",
    "product_of_a\n",
    "\n",
    "# 6.) - Make a variable named squares_of_a. It should hold each number in a squared like [1, 4, 9, 16, 25...]\n",
    "squares_of_a = np.square(a)\n",
    "print(f'Squares of a = {squares_of_a}')\n",
    "\n",
    "squares_of_a = [n ** 2 for n in a]\n",
    "squares_of_a\n",
    "\n",
    "# 7.) - Make a variable named odds_in_a. It should hold only the odd numbers\n",
    "odds_in_a = a[a % 2 == 1]\n",
    "print(f'Odds in a = {odds_in_a}')\n",
    "\n",
    "# 8.) - Make a variable named evens_in_a. It should hold only the evens.\n",
    "evens_in_a = a[a % 2 == 0]\n",
    "print(f'Evens in a = {evens_in_a}')\n",
    "\n",
    "print('S e t u p     O n e       C O M P L E T E')\n"
   ]
  },
  {
   "cell_type": "code",
   "execution_count": null,
   "id": "50172e82",
   "metadata": {},
   "outputs": [],
   "source": []
  },
  {
   "cell_type": "markdown",
   "id": "ada765bd",
   "metadata": {},
   "source": [
    "\n",
    " What about life in two dimensions? A list of lists is matrix, a table, a spreadsheet, a chessboard...\n",
    "#### Setup 2: Consider what it would take to find the sum, min, max, average, sum, product, and list of squares for this list of two lists.\n",
    "|||||||||||||||||||||| b = [ [3, 4, 5], [6, 7, 8] ] ||||||||||||||||||||||\n",
    "\n",
    "###### Exercise 1 - refactor the following to use numpy. Use sum_of_b as the variable. **Hint, you'll first need to make sure that the \"b\" variable is a numpy array**\n",
    "```\n",
    "sum_of_b = 0\n",
    "for row in b:\n",
    "    sum_of_b += sum(row)\n",
    "```\n",
    "###### Exercise 2 - refactor the following to use numpy. \n",
    "```\n",
    "min_of_b = min(b[0]) if min(b[0]) <= min(b[1]) else min(b[1])  \n",
    "```\n",
    "###### Exercise 3 - refactor the following maximum calculation to find the answer with numpy.\n",
    "```\n",
    "max_of_b = max(b[0]) if max(b[0]) >= max(b[1]) else max(b[1])\n",
    "```\n",
    "\n",
    "###### Exercise 4 - refactor the following using numpy to find the mean of b\n",
    "```\n",
    "mean_of_b = (sum(b[0]) + sum(b[1])) / (len(b[0]) + len(b[1]))\n",
    "```\n",
    "\n",
    "###### Exercise 5 - refactor the following to use numpy for calculating the product of all numbers multiplied together.\n",
    "```\n",
    "product_of_b = 1\n",
    "for row in b:\n",
    "    for number in row:\n",
    "        product_of_b *= number\n",
    "```\n",
    "###### Exercise 6 - refactor the following to use numpy to find the list of squares \n",
    "```\n",
    "squares_of_b = []\n",
    "for row in b:\n",
    "    for number in row:\n",
    "        squares_of_b.append(number**2)\n",
    "```\n",
    "\n",
    "###### Exercise 7 - refactor using numpy to determine the odds_in_b\n",
    "```\n",
    "odds_in_b = []\n",
    "for row in b:\n",
    "    for number in row:\n",
    "        if(number % 2 != 0):\n",
    "            odds_in_b.append(number)\n",
    "```\n",
    "\n",
    "###### Exercise 8 - refactor the following to use numpy to filter only the even numbers\n",
    "```\n",
    "evens_in_b = []\n",
    "for row in b:\n",
    "    for number in row:\n",
    "        if(number % 2 == 0):\n",
    "            evens_in_b.append(number)\n",
    "```\n",
    "###### Exercise 9 - print out the shape of the array b.\n",
    "\n",
    "###### Exercise 10 - transpose the array b.\n",
    "\n",
    "###### Exercise 11 - reshape the array b to be a single list of 6 numbers. (1 x 6)\n",
    "\n",
    "###### Exercise 12 - reshape the array b to be a list of 6 lists, each containing only 1 number (6 x 1)"
   ]
  },
  {
   "cell_type": "code",
   "execution_count": 5,
   "id": "340e1b76",
   "metadata": {},
   "outputs": [
    {
     "name": "stdout",
     "output_type": "stream",
     "text": [
      "Sum of b = 33\n",
      "Minimum of b = 3\n",
      "Maximum of b = 8\n",
      "Mean of b = 5.5\n",
      "Product of b = 20160\n",
      "Squares of b = [[ 9 16 25]\n",
      " [36 49 64]]\n",
      "Odds in b = [3 5 7]\n",
      "Evens in b = [4 6 8]\n",
      "The Shape of b = (2, 3)\n",
      "The Transposition of b = [[3 6]\n",
      " [4 7]\n",
      " [5 8]]\n",
      "Reshaped b = [3 4 5 6 7 8]\n",
      "Deshaped b = [[3]\n",
      " [4]\n",
      " [5]\n",
      " [6]\n",
      " [7]\n",
      " [8]]\n"
     ]
    },
    {
     "data": {
      "text/plain": [
       "array([[3],\n",
       "       [4],\n",
       "       [5],\n",
       "       [6],\n",
       "       [7],\n",
       "       [8]])"
      ]
     },
     "execution_count": 5,
     "metadata": {},
     "output_type": "execute_result"
    }
   ],
   "source": [
    "# Exercise 1 - refactor the following to use numpy. Use sum_of_b as the variable. \n",
    "#             Hint, you'll first need to make sure that the \"b\" variable is a numpy array\n",
    "#   sum_of_b = 0 for row in b: sum_of_b += sum(row)\n",
    "\n",
    "b = ([[3, 4, 5], [6, 7, 8]])\n",
    "b = np.array(b)\n",
    "\n",
    "sum_of_b = 0 \n",
    "for row in b: \n",
    "    sum_of_b += sum(row)\n",
    "\n",
    "sum_of_b = b.sum()\n",
    "print(f'Sum of b = {sum_of_b}')\n",
    "\n",
    "\n",
    "# Exercise 2 - refactor the following to use numpy.\n",
    "#     min_of_b = min(b[0]) if min(b[0]) <= min(b[1]) else min(b[1])\n",
    "        \n",
    "min_of_b = min(b[0]) if min(b[0]) <= min(b[1]) else min(b[1])\n",
    "min_of_b = np.min(b)\n",
    "print(f'Minimum of b = {min_of_b}')\n",
    "\n",
    "# Exercise 3 - refactor the following maximum calculation to find the answer with numpy.\n",
    "#     max_of_b = max(b[0]) if max(b[0]) >= max(b[1]) else max(b[1])\n",
    "\n",
    "max_of_b = max(b[0]) if max(b[0]) >= max(b[1]) else max(b[1])\n",
    "max_of_b = b.max()\n",
    "print(f'Maximum of b = {max_of_b}')\n",
    "\n",
    "# maximum_b = np.max(b)the same. \n",
    "\n",
    "\n",
    "# Exercise 4 - refactor the following using numpy to find the mean of b\n",
    "#.    mean_of_b = (sum(b[0]) + sum(b[1])) / (len(b[0]) + len(b[1]))\n",
    "\n",
    "mean_of_b = np.mean(b)\n",
    "print(f'Mean of b = {mean_of_b}')\n",
    "\n",
    "\n",
    "# Exercise 5 - refactor the following to use numpy for calculating the product of all numbers multiplied together.\n",
    "#.    product_of_b = 1 for row in b: for number in row: product_of_b *= number\n",
    "\n",
    "product_of_b = np.product(b)\n",
    "print(f'Product of b = {product_of_b}')\n",
    "\n",
    "\n",
    "# Exercise 6 - refactor the following to use numpy to find the list of squares\n",
    "#.    squares_of_b = [] for row in b: for number in row: squares_of_b.append(number**2)\n",
    "\n",
    "squares_of_b = np.square(b)\n",
    "print(f'Squares of b = {squares_of_b}')\n",
    "\n",
    "\n",
    "# Exercise 7 - refactor using numpy to determine the odds_in_b\n",
    "#     odds_in_b = [] for row in b: for number in row: if(number % 2 != 0): odds_in_b.append(number)\n",
    "\n",
    "odds_in_b = b[b % 2 == 1]\n",
    "print(f'Odds in b = {odds_in_b}')\n",
    "\n",
    "\n",
    "# Exercise 8 - refactor the following to use numpy to filter only the even numbers\n",
    "#     evens_in_b = [] for row in b: for number in row: if(number % 2 == 0): evens_in_b.append(number)\n",
    "\n",
    "evens_in_b = b[b % 2 == 0]\n",
    "print(f'Evens in b = {evens_in_b}')\n",
    "\n",
    "# Exercise 9 - print out the shape of the array b.\n",
    "\n",
    "dimensions_of_b = np.shape(b)\n",
    "print(f'The Shape of b = {dimensions_of_b}')\n",
    "\n",
    "\n",
    "#Exercise 10 - transpose the array b.\n",
    "\n",
    "transposed_b = np.transpose(b)\n",
    "print(f'The Transposition of b = {transposed_b}')\n",
    "\n",
    "b.T\n",
    "\n",
    "\n",
    "#Exercise 11 - reshape the array b to be a single list of 6 numbers. (1 x 6)\n",
    "\n",
    "b_together = np.reshape(b, -1)\n",
    "print(f'Reshaped b = {b_together}')\n",
    "\n",
    "b.flatten()\n",
    "\n",
    "b.reshape(1, 6)\n",
    "b.reshape(6)\n",
    "\n",
    "#Exercise 12 - reshape the array b to be a list of 6 lists, each containing only 1 number (6 x 1\n",
    "\n",
    "b_apart = b.reshape(-1, 1)\n",
    "print(f'Deshaped b = {b_apart}')\n",
    "\n",
    "b.reshape(6, 1)\n",
    "\n",
    "\n"
   ]
  },
  {
   "cell_type": "code",
   "execution_count": null,
   "id": "04b3bbaa",
   "metadata": {},
   "outputs": [],
   "source": []
  },
  {
   "cell_type": "markdown",
   "id": "265f7d03",
   "metadata": {},
   "source": [
    "## Setup 3\n",
    "# |||||||||||||||||||||| c = [ [1, 2, 3], [4, 5, 6], [7, 8, 9]] ||||||||||||||||||||||\n",
    "\n",
    "\n",
    "HINT, you'll first need to make sure that the \"c\" variable is a numpy array prior to using numpy array methods.\n",
    "#### Exercise 1 - Find the min, max, sum, and product of c.\n",
    "\n",
    "#### Exercise 2 - Determine the standard deviation of c.\n",
    "\n",
    "#### Exercise 3 - Determine the variance of c.\n",
    "\n",
    "#### Exercise 4 - Print out the shape of the array c\n",
    "\n",
    "#### Exercise 5 - Transpose c and print out transposed result.\n",
    "\n",
    "#### Exercise 6 - Get the dot product of the array c with c. \n",
    "\n",
    "#### Exercise 7 - Write the code necessary to sum up the result of c times c transposed. Answer should be 261\n",
    "\n",
    "#### Exercise 8 - Write the code necessary to determine the product of c times c transposed. Answer should be 131681894400."
   ]
  },
  {
   "cell_type": "code",
   "execution_count": 11,
   "id": "0112a544",
   "metadata": {},
   "outputs": [
    {
     "name": "stdout",
     "output_type": "stream",
     "text": [
      "Minimum of c = 1, Maximum of c = 9, Sum of c = 45, Product of c = 362880\n",
      "C has an STD = 2.581988897471611\n",
      "Variance of C= 6.666666666666667\n",
      "The Shape of C = (3, 3)\n",
      "The Transposition of C = [[1 4 7]\n",
      " [2 5 8]\n",
      " [3 6 9]]\n",
      "Dot Product of C against C = [[ 30  36  42]\n",
      " [ 66  81  96]\n",
      " [102 126 150]]\n",
      "Sum Body onCe told me = 261\n",
      "It is such a long way \n",
      " down = 131681894400\n"
     ]
    }
   ],
   "source": [
    "c = [ [1, 2, 3], [4, 5, 6], [7, 8, 9]] \n",
    "c = np.array(c)\n",
    "\n",
    "# Exercise 1 - Find the min, max, sum, and product of c.\n",
    "\n",
    "min_c = np.min(c)\n",
    "max_c = np.max(c)\n",
    "sum_c = np.sum(c)\n",
    "product_c = np.product(c)\n",
    "\n",
    "print(f'Minimum of c = {min_c}, Maximum of c = {max_c}, Sum of c = {sum_c}, Product of c = {product_c}')\n",
    "\n",
    "{\n",
    "    \"sum\": c.sum(),\n",
    "    \"min\": c.min(),\n",
    "    \"max\": c.max(),\n",
    "    \"mean\": c.mean(),\n",
    "    \"product\": c.prod()\n",
    "}\n",
    "# ask if I can put this code on two lines without running into EOL error. \n",
    "\n",
    "# Exercise 2 - Determine the standard deviation of c.\n",
    "\n",
    "std_c = np.std(c)\n",
    "print(f'C has an STD = {std_c}')\n",
    "\n",
    "# Exercise 3 - Determine the variance of c.\n",
    "\n",
    "var_c = np.var(c)\n",
    "print(f'Variance of C= {var_c}')\n",
    "\n",
    "# Exercise 4 - Print out the shape of the array c\n",
    "\n",
    "dimensions_of_c = np.shape(c)\n",
    "print(f'The Shape of C = {dimensions_of_c}')\n",
    "\n",
    "\n",
    "# Exercise 5 - Transpose c and print out transposed result.\n",
    "\n",
    "transposed_c = np.transpose(c)\n",
    "print(f'The Transposition of C = {transposed_c}')\n",
    "\n",
    "\n",
    "# Exercise 6 - Get the dot product of the array c with c.\n",
    "\n",
    "dot_product_c = np.dot(c, c)\n",
    "print(f'Dot Product of C against C = {dot_product_c}')\n",
    "\n",
    "# Exercise 7 - Write the code necessary to sum up the result of c times c transposed. Answer should be 261\n",
    "\n",
    "two_six_one = c * np.transpose(c)\n",
    "result = np.sum(two_six_one)\n",
    "print(f'Sum Body onCe told me = {result}')\n",
    "\n",
    "# Exercise 8 - Write the code necessary to determine the product of c times c transposed. Answer should be 131681894400\n",
    "\n",
    "long_boi = c * np.transpose(c)\n",
    "product = np.prod(long_boi)\n",
    "print(f'It is such a long way \\n down = {product}')\n"
   ]
  },
  {
   "cell_type": "code",
   "execution_count": null,
   "id": "0308e852",
   "metadata": {},
   "outputs": [],
   "source": []
  },
  {
   "cell_type": "markdown",
   "id": "cfbb7ba8",
   "metadata": {},
   "source": [
    "## Setup 4\n",
    "# d = [[90, 30, 45, 0, 120, 180], [45, -90, -30, 270, 90, 0],\n",
    "# ||||||||[60, 45, -45, 90, -45, 180]]\n",
    "\n",
    "#### Exercise 1 - Find the sine of all the numbers in d\n",
    "\n",
    "#### Exercise 2 - Find the cosine of all the numbers in d\n",
    "\n",
    "#### Exercise 3 - Find the tangent of all the numbers in d\n",
    "\n",
    "#### Exercise 4 - Find all the negative numbers in d\n",
    "\n",
    "#### Exercise 5 - Find all the positive numbers in d\n",
    "\n",
    "#### Exercise 6 - Return an array of only the unique numbers in d.\n",
    "\n",
    "#### Exercise 7 - Determine how many unique numbers there are in d.\n",
    "\n",
    "#### Exercise 8 - Print out the shape of d.\n",
    "\n",
    "#### Exercise 9 - Transpose and then print out the shape of d.\n",
    "\n",
    "#### Exercise 10 - Reshape d into an array of 9 x 2"
   ]
  },
  {
   "cell_type": "code",
   "execution_count": 12,
   "id": "8e727752",
   "metadata": {},
   "outputs": [
    {
     "name": "stdout",
     "output_type": "stream",
     "text": [
      "Sine this d = [[ 0.89399666 -0.98803162  0.85090352  0.          0.58061118 -0.80115264]\n",
      " [ 0.85090352 -0.89399666  0.98803162 -0.17604595  0.89399666  0.        ]\n",
      " [-0.30481062  0.85090352 -0.85090352  0.89399666 -0.85090352 -0.80115264]]\n",
      "Cosine this d = [[-0.44807362  0.15425145  0.52532199  1.          0.81418097 -0.59846007]\n",
      " [ 0.52532199 -0.44807362  0.15425145  0.98438195 -0.44807362  1.        ]\n",
      " [-0.95241298  0.52532199  0.52532199 -0.44807362  0.52532199 -0.59846007]]\n",
      "Tan this d = [[-1.99520041 -6.4053312   1.61977519  0.          0.71312301  1.33869021]\n",
      " [ 1.61977519  1.99520041  6.4053312  -0.17883906 -1.99520041  0.        ]\n",
      " [ 0.32004039  1.61977519 -1.61977519 -1.99520041 -1.61977519  1.33869021]]\n",
      " What a negative D = [-90 -30 -45 -45]\n",
      " Such a positive D = [ 90  30  45 120 180  45 270  90  60  45  90 180]\n",
      " What a unique D = [-90 -45 -30   0  30  45  60  90 120 180 270]\n",
      "11\n",
      "ah, the number of unique d is exquisite\n",
      "The Impressive Shape of D = (3, 6)\n",
      "The Transposition of D = [[ 90  45  60]\n",
      " [ 30 -90  45]\n",
      " [ 45 -30 -45]\n",
      " [  0 270  90]\n",
      " [120  90 -45]\n",
      " [180   0 180]]\n",
      "Deshaped D = [[ 90  30]\n",
      " [ 45   0]\n",
      " [120 180]\n",
      " [ 45 -90]\n",
      " [-30 270]\n",
      " [ 90   0]\n",
      " [ 60  45]\n",
      " [-45  90]\n",
      " [-45 180]]\n"
     ]
    }
   ],
   "source": [
    "d = [[90, 30, 45, 0, 120, 180], [45, -90, -30, 270, 90, 0], [60, 45, -45, 90, -45, 180]]\n",
    "d = np.array(d)\n",
    "\n",
    "# Exercise 1 - Find the sine of all the numbers in d\n",
    "\n",
    "sine_d = np.sin(d)\n",
    "print(f'Sine this d = {sine_d}')\n",
    "\n",
    "# Exercise 2 - Find the cosine of all the numbers in d\n",
    "\n",
    "cosine_d = np.cos(d)\n",
    "print(f'Cosine this d = {cosine_d}')\n",
    "\n",
    "# Exercise 3 - Find the tangent of all the numbers in d\n",
    "\n",
    "tangent_d = np.tan(d)\n",
    "print(f'Tan this d = {tangent_d}')\n",
    "\n",
    "# Exercise 4 - Find all the negative numbers in d\n",
    "\n",
    "neg_d = d < 0\n",
    "print(f' What a negative D = {d[neg_d]}')\n",
    "\n",
    "# Exercise 5 - Find all the positive numbers in d\n",
    "\n",
    "pos_d = d > 0\n",
    "print(f' Such a positive D = {d[pos_d]}')\n",
    "\n",
    "\n",
    "# Exercise 6 - Return an array of only the unique numbers in d.\n",
    "\n",
    "unique_d = np.unique(d)\n",
    "print(f' What a unique D = {unique_d}')\n",
    "\n",
    "# Exercise 7 - Determine how many unique numbers there are in d.\n",
    "\n",
    "unique_d = np.unique(d)\n",
    "print(len(unique_d))\n",
    "print('ah, the number of unique d is exquisite')\n",
    "\n",
    "\n",
    "# Exercise 8 - Print out the shape of d.\n",
    "\n",
    "dimensions_of_d = np.shape(d)\n",
    "print(f'The Impressive Shape of D = {dimensions_of_d}')\n",
    "\n",
    "\n",
    "# Exercise 9 - Transpose and then print out the shape of d.\n",
    "\n",
    "transposed_d = np.transpose(d)\n",
    "print(f'The Transposition of D = {transposed_d}')\n",
    "\n",
    "\n",
    "# Exercise 10 - Reshape d into an array of 9 x 2\n",
    "\n",
    "d_apart = d.reshape(-1, 2)\n",
    "print(f'Deshaped D = {d_apart}')"
   ]
  },
  {
   "cell_type": "code",
   "execution_count": null,
   "id": "f35c4988",
   "metadata": {},
   "outputs": [],
   "source": []
  }
 ],
 "metadata": {
  "kernelspec": {
   "display_name": "Python 3 (ipykernel)",
   "language": "python",
   "name": "python3"
  },
  "language_info": {
   "codemirror_mode": {
    "name": "ipython",
    "version": 3
   },
   "file_extension": ".py",
   "mimetype": "text/x-python",
   "name": "python",
   "nbconvert_exporter": "python",
   "pygments_lexer": "ipython3",
   "version": "3.9.7"
  }
 },
 "nbformat": 4,
 "nbformat_minor": 5
}
