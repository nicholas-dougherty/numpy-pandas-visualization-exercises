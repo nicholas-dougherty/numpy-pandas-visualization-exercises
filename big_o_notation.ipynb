{
 "cells": [
  {
   "cell_type": "markdown",
   "id": "2d9a4fa7",
   "metadata": {},
   "source": [
    "- Title your chart \"Big O Notation\"\n",
    "- Label your x axis \"Elements\"\n",
    "- Label your y axis \"Operations\"\n",
    "- Label your curves or make a legend for the curves\n",
    "- Use LaTex notation where possible\n",
    "\n",
    "### Curves to graph:\n",
    "\n",
    "y = 0n + 1 and label the curve \"0(1)\" |\\\n",
    "y = log(n) and label the curve \"0(1)\" |\\\n",
    "y = n and label the curve \"0(1)\" |\\\n",
    "y = n * log(n) and label the curve \"0(1)\" |\\\n",
    "y = n^2 and label the curve \"0(1)\" |\\\n",
    "y = 2^n and label the curve \"0(1)\" |\\\n",
    "y = n! and label the curve \"0(1)\" |\\\n",
    "y = n^n and label the curve \"0(1)\" |\n",
    "\n"
   ]
  },
  {
   "cell_type": "code",
   "execution_count": 3,
   "id": "fa985a79",
   "metadata": {},
   "outputs": [],
   "source": [
    "import matplotlib.pyplot as plt\n",
    "import math"
   ]
  },
  {
   "cell_type": "code",
   "execution_count": null,
   "id": "5c1584bd",
   "metadata": {},
   "outputs": [],
   "source": []
  }
 ],
 "metadata": {
  "kernelspec": {
   "display_name": "Python 3 (ipykernel)",
   "language": "python",
   "name": "python3"
  },
  "language_info": {
   "codemirror_mode": {
    "name": "ipython",
    "version": 3
   },
   "file_extension": ".py",
   "mimetype": "text/x-python",
   "name": "python",
   "nbconvert_exporter": "python",
   "pygments_lexer": "ipython3",
   "version": "3.9.7"
  }
 },
 "nbformat": 4,
 "nbformat_minor": 5
}
