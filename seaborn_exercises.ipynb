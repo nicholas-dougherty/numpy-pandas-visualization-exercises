{
 "cells": [
  {
   "cell_type": "code",
   "execution_count": 1,
   "id": "89346375",
   "metadata": {},
   "outputs": [],
   "source": [
    "import numpy as np\n",
    "import pandas as pd\n",
    "import matplotlib.pyplot as plt\n",
    "\n",
    "import seaborn as sns\n"
   ]
  },
  {
   "cell_type": "markdown",
   "id": "6e22e388",
   "metadata": {},
   "source": [
    "Use the iris database to answer the following questions:"
   ]
  },
  {
   "cell_type": "code",
   "execution_count": null,
   "id": "63035ac6",
   "metadata": {},
   "outputs": [],
   "source": []
  },
  {
   "cell_type": "markdown",
   "id": "5e9a9041",
   "metadata": {},
   "source": [
    "What does the distribution of petal lengths look like?"
   ]
  },
  {
   "cell_type": "code",
   "execution_count": null,
   "id": "9550fa12",
   "metadata": {},
   "outputs": [],
   "source": []
  },
  {
   "cell_type": "markdown",
   "id": "0571c259",
   "metadata": {},
   "source": [
    "Is there a correlation between petal length and petal width?   \n",
    "Use http://guessthecorrelation.com/ as a hint to how we could visually   \n",
    "determine if a correlation exists between two numeric columns."
   ]
  },
  {
   "cell_type": "code",
   "execution_count": null,
   "id": "9df844dc",
   "metadata": {},
   "outputs": [],
   "source": []
  },
  {
   "cell_type": "markdown",
   "id": "c0f22445",
   "metadata": {},
   "source": [
    "Would it be reasonable to predict species based on   \n",
    "sepal width and sepal length? For this, you'll visualize   \n",
    "two numeric columns through the lense of a categorical column."
   ]
  },
  {
   "cell_type": "code",
   "execution_count": null,
   "id": "8e518b31",
   "metadata": {},
   "outputs": [],
   "source": []
  },
  {
   "cell_type": "markdown",
   "id": "f011633f",
   "metadata": {},
   "source": [
    "Which features would be best used to predict species?"
   ]
  },
  {
   "cell_type": "code",
   "execution_count": null,
   "id": "328ba7da",
   "metadata": {},
   "outputs": [],
   "source": []
  },
  {
   "cell_type": "markdown",
   "id": "d9280df8",
   "metadata": {},
   "source": [
    "Using the lesson as an example, use seaborn's load_dataset function\n",
    "to load the anscombe data set. Use pandas to group the data by the\n",
    "dataset column, and calculate summary statistics for each dataset.\n",
    "What do you notice?"
   ]
  },
  {
   "cell_type": "code",
   "execution_count": null,
   "id": "6ab07059",
   "metadata": {},
   "outputs": [],
   "source": []
  },
  {
   "cell_type": "markdown",
   "id": "37409287",
   "metadata": {},
   "source": [
    "Plot the x and y values from the anscombe data. \n",
    "Each dataset should be in a separate column."
   ]
  },
  {
   "cell_type": "code",
   "execution_count": null,
   "id": "e7d34cb8",
   "metadata": {},
   "outputs": [],
   "source": []
  },
  {
   "cell_type": "markdown",
   "id": "bd9521fc",
   "metadata": {},
   "source": [
    "Load the InsectSprays dataset and read it's documentation.   \n",
    "Create a boxplot that shows the effectiveness of the different insect sprays."
   ]
  },
  {
   "cell_type": "code",
   "execution_count": null,
   "id": "4e306105",
   "metadata": {},
   "outputs": [],
   "source": []
  },
  {
   "cell_type": "markdown",
   "id": "b47694ac",
   "metadata": {},
   "source": [
    "Load the swiss dataset and read it's documentation.   \n",
    "The swiss dataset is available from pydatset rather than seaborn.  \n",
    "Create visualizations to answer the following questions:"
   ]
  },
  {
   "cell_type": "code",
   "execution_count": null,
   "id": "54a71e15",
   "metadata": {},
   "outputs": [],
   "source": []
  },
  {
   "cell_type": "markdown",
   "id": "6b9297a5",
   "metadata": {},
   "source": [
    "Create an attribute named is_catholic that holds a boolean value   \n",
    "of whether or not the province is Catholic.     \n",
    "(Choose a cutoff point for what constitutes catholic)"
   ]
  },
  {
   "cell_type": "code",
   "execution_count": null,
   "id": "4ffa92f9",
   "metadata": {},
   "outputs": [],
   "source": []
  },
  {
   "cell_type": "markdown",
   "id": "2454f719",
   "metadata": {},
   "source": [
    "Does whether or not a province is Catholic influence fertility?"
   ]
  },
  {
   "cell_type": "code",
   "execution_count": null,
   "id": "4e9a5d34",
   "metadata": {},
   "outputs": [],
   "source": []
  },
  {
   "cell_type": "markdown",
   "id": "15b201dd",
   "metadata": {},
   "source": [
    "What measure correlates most strongly with fertility?"
   ]
  },
  {
   "cell_type": "code",
   "execution_count": null,
   "id": "e6498905",
   "metadata": {},
   "outputs": [],
   "source": []
  },
  {
   "cell_type": "markdown",
   "id": "1a9c7997",
   "metadata": {},
   "source": [
    "Using the chipotle dataset from the previous exercise,   \n",
    "create a bar chart that shows the 4 most popular items   \n",
    "and the revenue produced by each."
   ]
  },
  {
   "cell_type": "code",
   "execution_count": null,
   "id": "98ebd018",
   "metadata": {},
   "outputs": [],
   "source": []
  },
  {
   "cell_type": "markdown",
   "id": "dd1ee963",
   "metadata": {},
   "source": [
    "Load the sleepstudy data and read it's documentation.    \n",
    "Use seaborn to create a line chart of all the individual    \n",
    "subject's reaction times and a more prominant line showing    \n",
    "the average change in reaction time."
   ]
  },
  {
   "cell_type": "code",
   "execution_count": null,
   "id": "ac799d5c",
   "metadata": {},
   "outputs": [],
   "source": []
  },
  {
   "cell_type": "code",
   "execution_count": null,
   "id": "09981f9e",
   "metadata": {},
   "outputs": [],
   "source": []
  },
  {
   "cell_type": "markdown",
   "id": "4df690b4",
   "metadata": {},
   "source": [
    "print(sns.get_dataset_names()))\n",
    "tips = sns.load_dataset('tips')\n",
    "tips.head()\n",
    "tips.info()\n",
    "tips.describe()\n",
    "\n",
    "REFRESHER: AN ASIDE. \n",
    "continuous data: numeric data with possibly infinite resolution: height, weight, temperature\n",
    "categorical- distinc categories: weekdays, gender, 'smoker', letter grades\n",
    "discrete: distinct numeric categories-party_size(numeric but discrete), number of customer complains, # of flaws or defects. \n",
    "\n",
    "Scatterplot with matplotlib\n",
    "plt.scatter(tips.total_bill, tips.tip)\n",
    "plt.title('Tips by Bill)\n",
    "\n",
    "Doing it with seaborn\n",
    "sns.relplot(data = tips, x='total_bill, y='tip', hue='smoker')\n",
    "\n",
    "~ \n",
    "Bootstrapping is any test or metric that uses random sampling with replacement, and falls under the broader class of resampling methods. Bootstrapping assigns measures of accuracy to sample estimates. This technique allows estimation of the sampling distribution of almost any statistic using random sampling methods.\n",
    "~"
   ]
  },
  {
   "cell_type": "code",
   "execution_count": null,
   "id": "ea38fed6",
   "metadata": {},
   "outputs": [],
   "source": []
  }
 ],
 "metadata": {
  "kernelspec": {
   "display_name": "Python 3 (ipykernel)",
   "language": "python",
   "name": "python3"
  },
  "language_info": {
   "codemirror_mode": {
    "name": "ipython",
    "version": 3
   },
   "file_extension": ".py",
   "mimetype": "text/x-python",
   "name": "python",
   "nbconvert_exporter": "python",
   "pygments_lexer": "ipython3",
   "version": "3.9.7"
  }
 },
 "nbformat": 4,
 "nbformat_minor": 5
}
